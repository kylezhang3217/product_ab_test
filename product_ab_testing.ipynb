{
 "cells": [
  {
   "cell_type": "code",
   "execution_count": 1,
   "id": "968705b3",
   "metadata": {},
   "outputs": [],
   "source": [
    "import numpy as np \n",
    "import pandas as pd \n",
    "import seaborn as sns\n",
    "from datetime import datetime\n",
    "\n",
    "from data_visualization_service import data_visualization_service\n",
    "from data_validation_service import data_validation_service\n",
    "\n",
    "data = pd.read_csv(\"product.csv\")"
   ]
  },
  {
   "cell_type": "markdown",
   "id": "7636f526",
   "metadata": {},
   "source": [
    "## Context\n",
    "Dataset contains orders, user session information, and promotional banners shown. \\\n",
    "Try to optimize sales"
   ]
  },
  {
   "cell_type": "code",
   "execution_count": 2,
   "id": "e7db33c8",
   "metadata": {},
   "outputs": [
    {
     "data": {
      "text/html": [
       "<div>\n",
       "<style scoped>\n",
       "    .dataframe tbody tr th:only-of-type {\n",
       "        vertical-align: middle;\n",
       "    }\n",
       "\n",
       "    .dataframe tbody tr th {\n",
       "        vertical-align: top;\n",
       "    }\n",
       "\n",
       "    .dataframe thead th {\n",
       "        text-align: right;\n",
       "    }\n",
       "</style>\n",
       "<table border=\"1\" class=\"dataframe\">\n",
       "  <thead>\n",
       "    <tr style=\"text-align: right;\">\n",
       "      <th></th>\n",
       "      <th>order_id</th>\n",
       "      <th>user_id</th>\n",
       "      <th>page_id</th>\n",
       "      <th>product</th>\n",
       "      <th>site_version</th>\n",
       "      <th>time</th>\n",
       "      <th>title</th>\n",
       "      <th>target</th>\n",
       "    </tr>\n",
       "  </thead>\n",
       "  <tbody>\n",
       "    <tr>\n",
       "      <th>0</th>\n",
       "      <td>cfcd208495d565ef66e7dff9f98764da</td>\n",
       "      <td>c81e728d9d4c2f636f067f89cc14862c</td>\n",
       "      <td>6f4922f45568161a8cdf4ad2299f6d23</td>\n",
       "      <td>sneakers</td>\n",
       "      <td>desktop</td>\n",
       "      <td>2019-01-11 09:24:43</td>\n",
       "      <td>banner_click</td>\n",
       "      <td>0</td>\n",
       "    </tr>\n",
       "    <tr>\n",
       "      <th>1</th>\n",
       "      <td>c4ca4238a0b923820dcc509a6f75849b</td>\n",
       "      <td>eccbc87e4b5ce2fe28308fd9f2a7baf3</td>\n",
       "      <td>4e732ced3463d06de0ca9a15b6153677</td>\n",
       "      <td>sneakers</td>\n",
       "      <td>desktop</td>\n",
       "      <td>2019-01-09 09:38:51</td>\n",
       "      <td>banner_show</td>\n",
       "      <td>0</td>\n",
       "    </tr>\n",
       "    <tr>\n",
       "      <th>2</th>\n",
       "      <td>c81e728d9d4c2f636f067f89cc14862c</td>\n",
       "      <td>eccbc87e4b5ce2fe28308fd9f2a7baf3</td>\n",
       "      <td>5c45a86277b8bf17bff6011be5cfb1b9</td>\n",
       "      <td>sports_nutrition</td>\n",
       "      <td>desktop</td>\n",
       "      <td>2019-01-09 09:12:45</td>\n",
       "      <td>banner_show</td>\n",
       "      <td>0</td>\n",
       "    </tr>\n",
       "    <tr>\n",
       "      <th>3</th>\n",
       "      <td>eccbc87e4b5ce2fe28308fd9f2a7baf3</td>\n",
       "      <td>eccbc87e4b5ce2fe28308fd9f2a7baf3</td>\n",
       "      <td>fb339ad311d50a229e497085aad219c7</td>\n",
       "      <td>company</td>\n",
       "      <td>desktop</td>\n",
       "      <td>2019-01-03 08:58:18</td>\n",
       "      <td>banner_show</td>\n",
       "      <td>0</td>\n",
       "    </tr>\n",
       "    <tr>\n",
       "      <th>4</th>\n",
       "      <td>a87ff679a2f3e71d9181a67b7542122c</td>\n",
       "      <td>eccbc87e4b5ce2fe28308fd9f2a7baf3</td>\n",
       "      <td>fb339ad311d50a229e497085aad219c7</td>\n",
       "      <td>company</td>\n",
       "      <td>desktop</td>\n",
       "      <td>2019-01-03 08:59:15</td>\n",
       "      <td>banner_click</td>\n",
       "      <td>0</td>\n",
       "    </tr>\n",
       "  </tbody>\n",
       "</table>\n",
       "</div>"
      ],
      "text/plain": [
       "                           order_id                           user_id  \\\n",
       "0  cfcd208495d565ef66e7dff9f98764da  c81e728d9d4c2f636f067f89cc14862c   \n",
       "1  c4ca4238a0b923820dcc509a6f75849b  eccbc87e4b5ce2fe28308fd9f2a7baf3   \n",
       "2  c81e728d9d4c2f636f067f89cc14862c  eccbc87e4b5ce2fe28308fd9f2a7baf3   \n",
       "3  eccbc87e4b5ce2fe28308fd9f2a7baf3  eccbc87e4b5ce2fe28308fd9f2a7baf3   \n",
       "4  a87ff679a2f3e71d9181a67b7542122c  eccbc87e4b5ce2fe28308fd9f2a7baf3   \n",
       "\n",
       "                            page_id           product site_version  \\\n",
       "0  6f4922f45568161a8cdf4ad2299f6d23          sneakers      desktop   \n",
       "1  4e732ced3463d06de0ca9a15b6153677          sneakers      desktop   \n",
       "2  5c45a86277b8bf17bff6011be5cfb1b9  sports_nutrition      desktop   \n",
       "3  fb339ad311d50a229e497085aad219c7           company      desktop   \n",
       "4  fb339ad311d50a229e497085aad219c7           company      desktop   \n",
       "\n",
       "                  time         title  target  \n",
       "0  2019-01-11 09:24:43  banner_click       0  \n",
       "1  2019-01-09 09:38:51   banner_show       0  \n",
       "2  2019-01-09 09:12:45   banner_show       0  \n",
       "3  2019-01-03 08:58:18   banner_show       0  \n",
       "4  2019-01-03 08:59:15  banner_click       0  "
      ]
     },
     "execution_count": 2,
     "metadata": {},
     "output_type": "execute_result"
    }
   ],
   "source": [
    "# preview of data\n",
    "data.head()"
   ]
  },
  {
   "cell_type": "code",
   "execution_count": 3,
   "id": "0c86be93",
   "metadata": {},
   "outputs": [
    {
     "name": "stdout",
     "output_type": "stream",
     "text": [
      "<class 'pandas.core.frame.DataFrame'>\n",
      "RangeIndex: 8471220 entries, 0 to 8471219\n",
      "Data columns (total 8 columns):\n",
      " #   Column        Dtype \n",
      "---  ------        ----- \n",
      " 0   order_id      object\n",
      " 1   user_id       object\n",
      " 2   page_id       object\n",
      " 3   product       object\n",
      " 4   site_version  object\n",
      " 5   time          object\n",
      " 6   title         object\n",
      " 7   target        int64 \n",
      "dtypes: int64(1), object(7)\n",
      "memory usage: 517.0+ MB\n"
     ]
    }
   ],
   "source": [
    "data.info()"
   ]
  },
  {
   "cell_type": "markdown",
   "id": "9457435a",
   "metadata": {},
   "source": [
    "## Step 0: Data Understanding"
   ]
  },
  {
   "cell_type": "markdown",
   "id": "94ffbcdb",
   "metadata": {},
   "source": [
    "## Step 1: data validation -> check data integrity"
   ]
  },
  {
   "cell_type": "code",
   "execution_count": 5,
   "id": "d8efdcd2",
   "metadata": {},
   "outputs": [
    {
     "name": "stdout",
     "output_type": "stream",
     "text": [
      "order_id  :  0.0  null percentage\n",
      "user_id  :  0.0  null percentage\n",
      "page_id  :  0.0  null percentage\n",
      "product  :  0.0  null percentage\n",
      "site_version  :  0.0  null percentage\n",
      "time  :  0.0  null percentage\n",
      "title  :  0.0  null percentage\n",
      "target  :  0.0  null percentage\n"
     ]
    }
   ],
   "source": [
    "#checking for null values anywhere \n",
    "validation_svc = data_validation_service(data)\n",
    "validation_svc.get_columns_with_null_percentage()"
   ]
  },
  {
   "cell_type": "code",
   "execution_count": 6,
   "id": "f9d1f8b4",
   "metadata": {},
   "outputs": [
    {
     "name": "stdout",
     "output_type": "stream",
     "text": [
      "                                 order_id                           user_id  \\\n",
      "2        c81e728d9d4c2f636f067f89cc14862c  eccbc87e4b5ce2fe28308fd9f2a7baf3   \n",
      "3        eccbc87e4b5ce2fe28308fd9f2a7baf3  eccbc87e4b5ce2fe28308fd9f2a7baf3   \n",
      "4        a87ff679a2f3e71d9181a67b7542122c  eccbc87e4b5ce2fe28308fd9f2a7baf3   \n",
      "9        45c48cce2e2d7fbdea1afc51c7c6ad26  8f14e45fceea167a5a36dedd4bea2543   \n",
      "11       6512bd43d9caa6e02c990b0a82652dca  c9f0f895fb98ab9159f51fd0297e236d   \n",
      "...                                   ...                               ...   \n",
      "8471196  d537ff9be71436e5f05badf94c06cfb5  1944f7ee00bf0957536286e1b3ba0298   \n",
      "8471197  90e4e2454f09da77d887572fa2e3276f  1944f7ee00bf0957536286e1b3ba0298   \n",
      "8471201  fd7975276f53a7c4b6a2cd2857cb5c1f  0763efbac6631e6f2c01ddf9c01287dd   \n",
      "8471213  56132ca28d7144c088bd1209bda91d0c  065956e2a6874f2dcafd4326fc553aed   \n",
      "8471214  434f6abfee98a50394d1e210ebfddab8  065956e2a6874f2dcafd4326fc553aed   \n",
      "\n",
      "                                  page_id           product site_version  \\\n",
      "2        5c45a86277b8bf17bff6011be5cfb1b9  sports_nutrition      desktop   \n",
      "3        fb339ad311d50a229e497085aad219c7           company      desktop   \n",
      "4        fb339ad311d50a229e497085aad219c7           company      desktop   \n",
      "9        2ff279ece91cd2eaae06e449f5a20a0c           clothes      desktop   \n",
      "11       956936879f66f5cf4ffbf3aefffd56ca          sneakers       mobile   \n",
      "...                                   ...               ...          ...   \n",
      "8471196  9eee30b46ac3cbf14c8f2ab459e0151e       accessories       mobile   \n",
      "8471197  00d7a3c222170c404903e9d6b05efc78       accessories       mobile   \n",
      "8471201  00c4cd00ceba1e301401d24dfaeb3dda           clothes       mobile   \n",
      "8471213  d93ec2e79b2163ece465c65b838c1c7c       accessories       mobile   \n",
      "8471214  d93ec2e79b2163ece465c65b838c1c7c       accessories       mobile   \n",
      "\n",
      "                        time         title  target  \n",
      "2        2019-01-09 09:12:45   banner_show       0  \n",
      "3        2019-01-03 08:58:18   banner_show       0  \n",
      "4        2019-01-03 08:59:15  banner_click       0  \n",
      "9        2019-01-24 10:36:13   banner_show       0  \n",
      "11       2019-02-19 06:40:37   banner_show       0  \n",
      "...                      ...           ...     ...  \n",
      "8471196  2019-05-25 12:11:42   banner_show       0  \n",
      "8471197  2019-05-29 08:33:55  banner_click       0  \n",
      "8471201  2019-05-21 10:48:02   banner_show       0  \n",
      "8471213  2019-05-26 13:17:44   banner_show       0  \n",
      "8471214  2019-05-26 13:21:04  banner_click       0  \n",
      "\n",
      "[4216601 rows x 8 columns]\n"
     ]
    }
   ],
   "source": [
    "#does any one user show up twice in the data?\n",
    "validation_svc.set_primary_key_column(\"user_id\")\n",
    "validation_svc.get_ids_with_multiple_rows()"
   ]
  },
  {
   "cell_type": "code",
   "execution_count": 7,
   "id": "e28f8eb7",
   "metadata": {},
   "outputs": [
    {
     "data": {
      "text/html": [
       "<div>\n",
       "<style scoped>\n",
       "    .dataframe tbody tr th:only-of-type {\n",
       "        vertical-align: middle;\n",
       "    }\n",
       "\n",
       "    .dataframe tbody tr th {\n",
       "        vertical-align: top;\n",
       "    }\n",
       "\n",
       "    .dataframe thead th {\n",
       "        text-align: right;\n",
       "    }\n",
       "</style>\n",
       "<table border=\"1\" class=\"dataframe\">\n",
       "  <thead>\n",
       "    <tr style=\"text-align: right;\">\n",
       "      <th></th>\n",
       "      <th>order_id</th>\n",
       "      <th>user_id</th>\n",
       "      <th>page_id</th>\n",
       "      <th>product</th>\n",
       "      <th>site_version</th>\n",
       "      <th>time</th>\n",
       "      <th>title</th>\n",
       "      <th>target</th>\n",
       "    </tr>\n",
       "  </thead>\n",
       "  <tbody>\n",
       "    <tr>\n",
       "      <th>1</th>\n",
       "      <td>c4ca4238a0b923820dcc509a6f75849b</td>\n",
       "      <td>eccbc87e4b5ce2fe28308fd9f2a7baf3</td>\n",
       "      <td>4e732ced3463d06de0ca9a15b6153677</td>\n",
       "      <td>sneakers</td>\n",
       "      <td>desktop</td>\n",
       "      <td>2019-01-09 09:38:51</td>\n",
       "      <td>banner_show</td>\n",
       "      <td>0</td>\n",
       "    </tr>\n",
       "    <tr>\n",
       "      <th>2</th>\n",
       "      <td>c81e728d9d4c2f636f067f89cc14862c</td>\n",
       "      <td>eccbc87e4b5ce2fe28308fd9f2a7baf3</td>\n",
       "      <td>5c45a86277b8bf17bff6011be5cfb1b9</td>\n",
       "      <td>sports_nutrition</td>\n",
       "      <td>desktop</td>\n",
       "      <td>2019-01-09 09:12:45</td>\n",
       "      <td>banner_show</td>\n",
       "      <td>0</td>\n",
       "    </tr>\n",
       "    <tr>\n",
       "      <th>3</th>\n",
       "      <td>eccbc87e4b5ce2fe28308fd9f2a7baf3</td>\n",
       "      <td>eccbc87e4b5ce2fe28308fd9f2a7baf3</td>\n",
       "      <td>fb339ad311d50a229e497085aad219c7</td>\n",
       "      <td>company</td>\n",
       "      <td>desktop</td>\n",
       "      <td>2019-01-03 08:58:18</td>\n",
       "      <td>banner_show</td>\n",
       "      <td>0</td>\n",
       "    </tr>\n",
       "    <tr>\n",
       "      <th>4</th>\n",
       "      <td>a87ff679a2f3e71d9181a67b7542122c</td>\n",
       "      <td>eccbc87e4b5ce2fe28308fd9f2a7baf3</td>\n",
       "      <td>fb339ad311d50a229e497085aad219c7</td>\n",
       "      <td>company</td>\n",
       "      <td>desktop</td>\n",
       "      <td>2019-01-03 08:59:15</td>\n",
       "      <td>banner_click</td>\n",
       "      <td>0</td>\n",
       "    </tr>\n",
       "  </tbody>\n",
       "</table>\n",
       "</div>"
      ],
      "text/plain": [
       "                           order_id                           user_id  \\\n",
       "1  c4ca4238a0b923820dcc509a6f75849b  eccbc87e4b5ce2fe28308fd9f2a7baf3   \n",
       "2  c81e728d9d4c2f636f067f89cc14862c  eccbc87e4b5ce2fe28308fd9f2a7baf3   \n",
       "3  eccbc87e4b5ce2fe28308fd9f2a7baf3  eccbc87e4b5ce2fe28308fd9f2a7baf3   \n",
       "4  a87ff679a2f3e71d9181a67b7542122c  eccbc87e4b5ce2fe28308fd9f2a7baf3   \n",
       "\n",
       "                            page_id           product site_version  \\\n",
       "1  4e732ced3463d06de0ca9a15b6153677          sneakers      desktop   \n",
       "2  5c45a86277b8bf17bff6011be5cfb1b9  sports_nutrition      desktop   \n",
       "3  fb339ad311d50a229e497085aad219c7           company      desktop   \n",
       "4  fb339ad311d50a229e497085aad219c7           company      desktop   \n",
       "\n",
       "                  time         title  target  \n",
       "1  2019-01-09 09:38:51   banner_show       0  \n",
       "2  2019-01-09 09:12:45   banner_show       0  \n",
       "3  2019-01-03 08:58:18   banner_show       0  \n",
       "4  2019-01-03 08:59:15  banner_click       0  "
      ]
     },
     "execution_count": 7,
     "metadata": {},
     "output_type": "execute_result"
    }
   ],
   "source": [
    "#take a sneak peek of what a user with multiple rows look like \n",
    "data[data['user_id'] == 'eccbc87e4b5ce2fe28308fd9f2a7baf3']"
   ]
  },
  {
   "cell_type": "markdown",
   "id": "d06a6a23",
   "metadata": {},
   "source": [
    "for this user, it looks like they were shown multiple ads, but only clicked on one of them, yet did not buy anything."
   ]
  },
  {
   "cell_type": "markdown",
   "id": "9ba86914",
   "metadata": {},
   "source": [
    "### Data Transformation \n",
    "Since we are dealing with time, we might want to analyze time components individually"
   ]
  },
  {
   "cell_type": "code",
   "execution_count": 13,
   "id": "5d295766",
   "metadata": {},
   "outputs": [],
   "source": [
    "def convert_string_to_datetime(datetime_string):\n",
    "    format_time = '%Y-%m-%d %H:%M:%S'\n",
    "    return datetime.strptime(datetime_string, format_time)\n",
    "def get_weekday_name_from_datetime(datetime_obj):\n",
    "    return datetime_obj.strftime('%A')\n",
    "def get_month_from_datetime(datetime_obj):\n",
    "    return datetime_obj.month\n",
    "def get_hour_from_datetime(datetime_obj):\n",
    "    return datetime_obj.hour\n",
    "def get_daytime_classification(hour):\n",
    "    if hour > 6 and hour < 12:\n",
    "        return 'morning'\n",
    "    elif hour > 12 and hour < 18: \n",
    "        return 'afternoon'\n",
    "    elif hour > 18 and hour < 24:\n",
    "        return 'evening'\n",
    "    else:\n",
    "        return 'night'\n"
   ]
  },
  {
   "cell_type": "code",
   "execution_count": 22,
   "id": "38e14f87",
   "metadata": {},
   "outputs": [],
   "source": [
    "\n",
    "data['datetime'] = data['time'].apply(convert_string_to_datetime)\n",
    "data['weekday'] = data['datetime'].apply(get_weekday_name_from_datetime)\n",
    "data['month'] = data['datetime'].apply(get_month_from_datetime)\n",
    "data['hour'] = data['datetime'].apply(get_hour_from_datetime)\n",
    "data['daytime'] = data['hour'].apply(get_daytime_classification)"
   ]
  },
  {
   "cell_type": "code",
   "execution_count": 29,
   "id": "14758495",
   "metadata": {},
   "outputs": [
    {
     "data": {
      "text/html": [
       "<div>\n",
       "<style scoped>\n",
       "    .dataframe tbody tr th:only-of-type {\n",
       "        vertical-align: middle;\n",
       "    }\n",
       "\n",
       "    .dataframe tbody tr th {\n",
       "        vertical-align: top;\n",
       "    }\n",
       "\n",
       "    .dataframe thead th {\n",
       "        text-align: right;\n",
       "    }\n",
       "</style>\n",
       "<table border=\"1\" class=\"dataframe\">\n",
       "  <thead>\n",
       "    <tr style=\"text-align: right;\">\n",
       "      <th></th>\n",
       "      <th>order_id</th>\n",
       "      <th>user_id</th>\n",
       "      <th>page_id</th>\n",
       "      <th>product</th>\n",
       "      <th>site_version</th>\n",
       "      <th>time</th>\n",
       "      <th>title</th>\n",
       "      <th>target</th>\n",
       "      <th>datetime</th>\n",
       "      <th>weekday</th>\n",
       "      <th>month</th>\n",
       "      <th>hour</th>\n",
       "      <th>daytime</th>\n",
       "    </tr>\n",
       "  </thead>\n",
       "  <tbody>\n",
       "    <tr>\n",
       "      <th>1</th>\n",
       "      <td>c4ca4238a0b923820dcc509a6f75849b</td>\n",
       "      <td>eccbc87e4b5ce2fe28308fd9f2a7baf3</td>\n",
       "      <td>4e732ced3463d06de0ca9a15b6153677</td>\n",
       "      <td>sneakers</td>\n",
       "      <td>desktop</td>\n",
       "      <td>2019-01-09 09:38:51</td>\n",
       "      <td>banner_show</td>\n",
       "      <td>0</td>\n",
       "      <td>2019-01-09 09:38:51</td>\n",
       "      <td>Wednesday</td>\n",
       "      <td>1</td>\n",
       "      <td>9</td>\n",
       "      <td>morning</td>\n",
       "    </tr>\n",
       "    <tr>\n",
       "      <th>2</th>\n",
       "      <td>c81e728d9d4c2f636f067f89cc14862c</td>\n",
       "      <td>eccbc87e4b5ce2fe28308fd9f2a7baf3</td>\n",
       "      <td>5c45a86277b8bf17bff6011be5cfb1b9</td>\n",
       "      <td>sports_nutrition</td>\n",
       "      <td>desktop</td>\n",
       "      <td>2019-01-09 09:12:45</td>\n",
       "      <td>banner_show</td>\n",
       "      <td>0</td>\n",
       "      <td>2019-01-09 09:12:45</td>\n",
       "      <td>Wednesday</td>\n",
       "      <td>1</td>\n",
       "      <td>9</td>\n",
       "      <td>morning</td>\n",
       "    </tr>\n",
       "    <tr>\n",
       "      <th>3</th>\n",
       "      <td>eccbc87e4b5ce2fe28308fd9f2a7baf3</td>\n",
       "      <td>eccbc87e4b5ce2fe28308fd9f2a7baf3</td>\n",
       "      <td>fb339ad311d50a229e497085aad219c7</td>\n",
       "      <td>company</td>\n",
       "      <td>desktop</td>\n",
       "      <td>2019-01-03 08:58:18</td>\n",
       "      <td>banner_show</td>\n",
       "      <td>0</td>\n",
       "      <td>2019-01-03 08:58:18</td>\n",
       "      <td>Thursday</td>\n",
       "      <td>1</td>\n",
       "      <td>8</td>\n",
       "      <td>morning</td>\n",
       "    </tr>\n",
       "    <tr>\n",
       "      <th>4</th>\n",
       "      <td>a87ff679a2f3e71d9181a67b7542122c</td>\n",
       "      <td>eccbc87e4b5ce2fe28308fd9f2a7baf3</td>\n",
       "      <td>fb339ad311d50a229e497085aad219c7</td>\n",
       "      <td>company</td>\n",
       "      <td>desktop</td>\n",
       "      <td>2019-01-03 08:59:15</td>\n",
       "      <td>banner_click</td>\n",
       "      <td>0</td>\n",
       "      <td>2019-01-03 08:59:15</td>\n",
       "      <td>Thursday</td>\n",
       "      <td>1</td>\n",
       "      <td>8</td>\n",
       "      <td>morning</td>\n",
       "    </tr>\n",
       "  </tbody>\n",
       "</table>\n",
       "</div>"
      ],
      "text/plain": [
       "                           order_id                           user_id  \\\n",
       "1  c4ca4238a0b923820dcc509a6f75849b  eccbc87e4b5ce2fe28308fd9f2a7baf3   \n",
       "2  c81e728d9d4c2f636f067f89cc14862c  eccbc87e4b5ce2fe28308fd9f2a7baf3   \n",
       "3  eccbc87e4b5ce2fe28308fd9f2a7baf3  eccbc87e4b5ce2fe28308fd9f2a7baf3   \n",
       "4  a87ff679a2f3e71d9181a67b7542122c  eccbc87e4b5ce2fe28308fd9f2a7baf3   \n",
       "\n",
       "                            page_id           product site_version  \\\n",
       "1  4e732ced3463d06de0ca9a15b6153677          sneakers      desktop   \n",
       "2  5c45a86277b8bf17bff6011be5cfb1b9  sports_nutrition      desktop   \n",
       "3  fb339ad311d50a229e497085aad219c7           company      desktop   \n",
       "4  fb339ad311d50a229e497085aad219c7           company      desktop   \n",
       "\n",
       "                  time         title  target            datetime    weekday  \\\n",
       "1  2019-01-09 09:38:51   banner_show       0 2019-01-09 09:38:51  Wednesday   \n",
       "2  2019-01-09 09:12:45   banner_show       0 2019-01-09 09:12:45  Wednesday   \n",
       "3  2019-01-03 08:58:18   banner_show       0 2019-01-03 08:58:18   Thursday   \n",
       "4  2019-01-03 08:59:15  banner_click       0 2019-01-03 08:59:15   Thursday   \n",
       "\n",
       "   month  hour  daytime  \n",
       "1      1     9  morning  \n",
       "2      1     9  morning  \n",
       "3      1     8  morning  \n",
       "4      1     8  morning  "
      ]
     },
     "execution_count": 29,
     "metadata": {},
     "output_type": "execute_result"
    }
   ],
   "source": [
    "data[data['user_id'] == 'eccbc87e4b5ce2fe28308fd9f2a7baf3']"
   ]
  },
  {
   "cell_type": "markdown",
   "id": "1d543904",
   "metadata": {},
   "source": [
    "### User-Level Information\n",
    "now, we will try to compute user level information\n",
    "for each user, we will be interested in three categories : retention, engagement, and revenue.\n",
    "\n",
    "-- retention \n",
    "A). days since first appearance and most recent appearance on website\n",
    "\n",
    "-- engagement \n",
    "A). click-through-rate :- banner_clicks / (banner_show)\n",
    "\n",
    "-- Revenue Metrics\n",
    "A). number of orders they had on their history\n",
    "B). number of purchases they had "
   ]
  },
  {
   "cell_type": "code",
   "execution_count": 30,
   "id": "7b9ed199",
   "metadata": {},
   "outputs": [],
   "source": [
    "trial_data = data[data['user_id'] == 'eccbc87e4b5ce2fe28308fd9f2a7baf3']"
   ]
  },
  {
   "cell_type": "code",
   "execution_count": 108,
   "id": "6f49bf59",
   "metadata": {},
   "outputs": [
    {
     "data": {
      "text/html": [
       "<div>\n",
       "<style scoped>\n",
       "    .dataframe tbody tr th:only-of-type {\n",
       "        vertical-align: middle;\n",
       "    }\n",
       "\n",
       "    .dataframe tbody tr th {\n",
       "        vertical-align: top;\n",
       "    }\n",
       "\n",
       "    .dataframe thead th {\n",
       "        text-align: right;\n",
       "    }\n",
       "</style>\n",
       "<table border=\"1\" class=\"dataframe\">\n",
       "  <thead>\n",
       "    <tr style=\"text-align: right;\">\n",
       "      <th></th>\n",
       "      <th>order_id</th>\n",
       "      <th>user_id</th>\n",
       "      <th>page_id</th>\n",
       "      <th>product</th>\n",
       "      <th>site_version</th>\n",
       "      <th>time</th>\n",
       "      <th>title</th>\n",
       "      <th>target</th>\n",
       "      <th>datetime</th>\n",
       "      <th>weekday</th>\n",
       "      <th>month</th>\n",
       "      <th>hour</th>\n",
       "      <th>daytime</th>\n",
       "      <th>last_appearance_date</th>\n",
       "      <th>first_appearance_date</th>\n",
       "    </tr>\n",
       "  </thead>\n",
       "  <tbody>\n",
       "    <tr>\n",
       "      <th>1</th>\n",
       "      <td>c4ca4238a0b923820dcc509a6f75849b</td>\n",
       "      <td>eccbc87e4b5ce2fe28308fd9f2a7baf3</td>\n",
       "      <td>4e732ced3463d06de0ca9a15b6153677</td>\n",
       "      <td>sneakers</td>\n",
       "      <td>desktop</td>\n",
       "      <td>2019-01-09 09:38:51</td>\n",
       "      <td>banner_show</td>\n",
       "      <td>0</td>\n",
       "      <td>2019-01-09 09:38:51</td>\n",
       "      <td>Wednesday</td>\n",
       "      <td>1</td>\n",
       "      <td>9</td>\n",
       "      <td>morning</td>\n",
       "      <td>NaN</td>\n",
       "      <td>NaN</td>\n",
       "    </tr>\n",
       "    <tr>\n",
       "      <th>2</th>\n",
       "      <td>c81e728d9d4c2f636f067f89cc14862c</td>\n",
       "      <td>eccbc87e4b5ce2fe28308fd9f2a7baf3</td>\n",
       "      <td>5c45a86277b8bf17bff6011be5cfb1b9</td>\n",
       "      <td>sports_nutrition</td>\n",
       "      <td>desktop</td>\n",
       "      <td>2019-01-09 09:12:45</td>\n",
       "      <td>banner_show</td>\n",
       "      <td>0</td>\n",
       "      <td>2019-01-09 09:12:45</td>\n",
       "      <td>Wednesday</td>\n",
       "      <td>1</td>\n",
       "      <td>9</td>\n",
       "      <td>morning</td>\n",
       "      <td>NaN</td>\n",
       "      <td>NaN</td>\n",
       "    </tr>\n",
       "    <tr>\n",
       "      <th>3</th>\n",
       "      <td>eccbc87e4b5ce2fe28308fd9f2a7baf3</td>\n",
       "      <td>eccbc87e4b5ce2fe28308fd9f2a7baf3</td>\n",
       "      <td>fb339ad311d50a229e497085aad219c7</td>\n",
       "      <td>company</td>\n",
       "      <td>desktop</td>\n",
       "      <td>2019-01-03 08:58:18</td>\n",
       "      <td>banner_show</td>\n",
       "      <td>0</td>\n",
       "      <td>2019-01-03 08:58:18</td>\n",
       "      <td>Thursday</td>\n",
       "      <td>1</td>\n",
       "      <td>8</td>\n",
       "      <td>morning</td>\n",
       "      <td>NaN</td>\n",
       "      <td>NaN</td>\n",
       "    </tr>\n",
       "    <tr>\n",
       "      <th>4</th>\n",
       "      <td>a87ff679a2f3e71d9181a67b7542122c</td>\n",
       "      <td>eccbc87e4b5ce2fe28308fd9f2a7baf3</td>\n",
       "      <td>fb339ad311d50a229e497085aad219c7</td>\n",
       "      <td>company</td>\n",
       "      <td>desktop</td>\n",
       "      <td>2019-01-03 08:59:15</td>\n",
       "      <td>banner_click</td>\n",
       "      <td>0</td>\n",
       "      <td>2019-01-03 08:59:15</td>\n",
       "      <td>Thursday</td>\n",
       "      <td>1</td>\n",
       "      <td>8</td>\n",
       "      <td>morning</td>\n",
       "      <td>NaN</td>\n",
       "      <td>NaN</td>\n",
       "    </tr>\n",
       "  </tbody>\n",
       "</table>\n",
       "</div>"
      ],
      "text/plain": [
       "                           order_id                           user_id  \\\n",
       "1  c4ca4238a0b923820dcc509a6f75849b  eccbc87e4b5ce2fe28308fd9f2a7baf3   \n",
       "2  c81e728d9d4c2f636f067f89cc14862c  eccbc87e4b5ce2fe28308fd9f2a7baf3   \n",
       "3  eccbc87e4b5ce2fe28308fd9f2a7baf3  eccbc87e4b5ce2fe28308fd9f2a7baf3   \n",
       "4  a87ff679a2f3e71d9181a67b7542122c  eccbc87e4b5ce2fe28308fd9f2a7baf3   \n",
       "\n",
       "                            page_id           product site_version  \\\n",
       "1  4e732ced3463d06de0ca9a15b6153677          sneakers      desktop   \n",
       "2  5c45a86277b8bf17bff6011be5cfb1b9  sports_nutrition      desktop   \n",
       "3  fb339ad311d50a229e497085aad219c7           company      desktop   \n",
       "4  fb339ad311d50a229e497085aad219c7           company      desktop   \n",
       "\n",
       "                  time         title  target            datetime    weekday  \\\n",
       "1  2019-01-09 09:38:51   banner_show       0 2019-01-09 09:38:51  Wednesday   \n",
       "2  2019-01-09 09:12:45   banner_show       0 2019-01-09 09:12:45  Wednesday   \n",
       "3  2019-01-03 08:58:18   banner_show       0 2019-01-03 08:58:18   Thursday   \n",
       "4  2019-01-03 08:59:15  banner_click       0 2019-01-03 08:59:15   Thursday   \n",
       "\n",
       "   month  hour  daytime last_appearance_date first_appearance_date  \n",
       "1      1     9  morning                  NaN                   NaN  \n",
       "2      1     9  morning                  NaN                   NaN  \n",
       "3      1     8  morning                  NaN                   NaN  \n",
       "4      1     8  morning                  NaN                   NaN  "
      ]
     },
     "execution_count": 108,
     "metadata": {},
     "output_type": "execute_result"
    }
   ],
   "source": [
    "trial_data"
   ]
  },
  {
   "cell_type": "code",
   "execution_count": 128,
   "id": "b910badd",
   "metadata": {},
   "outputs": [],
   "source": [
    "trial_data_grouped_v2 = trial_data.groupby([\"user_id\"]).agg(\n",
    "        last_appearance_date = (\"datetime\", \"max\")\n",
    "        , first_appearance_date = (\"datetime\", \"min\")\n",
    "        , num_banner_shows = (\"title\", lambda x: (x == \"banner_show\").sum())\n",
    "        , num_banner_clicks = (\"title\", lambda x: (x == \"banner_click\").sum())\n",
    "        , num_visits = (\"target\", \"count\")\n",
    "        , num_orders = (\"target\", lambda x: (x>0).sum())\n",
    "        , days_since_first_appearance = (\"datetime\", lambda x: (x.max() - x.min()).days)\n",
    "        , click_thru_rate = (\"title\", lambda x: (x == \"banner_click\").sum() / (x == \"banner_show\").sum())\n",
    ")"
   ]
  },
  {
   "cell_type": "code",
   "execution_count": 129,
   "id": "b2b90387",
   "metadata": {},
   "outputs": [
    {
     "data": {
      "text/html": [
       "<div>\n",
       "<style scoped>\n",
       "    .dataframe tbody tr th:only-of-type {\n",
       "        vertical-align: middle;\n",
       "    }\n",
       "\n",
       "    .dataframe tbody tr th {\n",
       "        vertical-align: top;\n",
       "    }\n",
       "\n",
       "    .dataframe thead th {\n",
       "        text-align: right;\n",
       "    }\n",
       "</style>\n",
       "<table border=\"1\" class=\"dataframe\">\n",
       "  <thead>\n",
       "    <tr style=\"text-align: right;\">\n",
       "      <th></th>\n",
       "      <th>last_appearance_date</th>\n",
       "      <th>first_appearance_date</th>\n",
       "      <th>num_banner_shows</th>\n",
       "      <th>num_banner_clicks</th>\n",
       "      <th>num_visits</th>\n",
       "      <th>num_orders</th>\n",
       "      <th>days_since_first_appearance</th>\n",
       "      <th>click_thru_rate</th>\n",
       "    </tr>\n",
       "    <tr>\n",
       "      <th>user_id</th>\n",
       "      <th></th>\n",
       "      <th></th>\n",
       "      <th></th>\n",
       "      <th></th>\n",
       "      <th></th>\n",
       "      <th></th>\n",
       "      <th></th>\n",
       "      <th></th>\n",
       "    </tr>\n",
       "  </thead>\n",
       "  <tbody>\n",
       "    <tr>\n",
       "      <th>eccbc87e4b5ce2fe28308fd9f2a7baf3</th>\n",
       "      <td>2019-01-09 09:38:51</td>\n",
       "      <td>2019-01-03 08:58:18</td>\n",
       "      <td>3</td>\n",
       "      <td>1</td>\n",
       "      <td>4</td>\n",
       "      <td>0</td>\n",
       "      <td>6</td>\n",
       "      <td>0.333333</td>\n",
       "    </tr>\n",
       "  </tbody>\n",
       "</table>\n",
       "</div>"
      ],
      "text/plain": [
       "                                 last_appearance_date first_appearance_date  \\\n",
       "user_id                                                                       \n",
       "eccbc87e4b5ce2fe28308fd9f2a7baf3  2019-01-09 09:38:51   2019-01-03 08:58:18   \n",
       "\n",
       "                                  num_banner_shows  num_banner_clicks  \\\n",
       "user_id                                                                 \n",
       "eccbc87e4b5ce2fe28308fd9f2a7baf3                 3                  1   \n",
       "\n",
       "                                  num_visits  num_orders  \\\n",
       "user_id                                                    \n",
       "eccbc87e4b5ce2fe28308fd9f2a7baf3           4           0   \n",
       "\n",
       "                                  days_since_first_appearance  click_thru_rate  \n",
       "user_id                                                                         \n",
       "eccbc87e4b5ce2fe28308fd9f2a7baf3                            6         0.333333  "
      ]
     },
     "execution_count": 129,
     "metadata": {},
     "output_type": "execute_result"
    }
   ],
   "source": [
    "trial_data_grouped_v2"
   ]
  },
  {
   "cell_type": "code",
   "execution_count": 106,
   "id": "d1fd5081",
   "metadata": {},
   "outputs": [],
   "source": [
    "trial_data_grouped = trial_data.groupby([\"user_id\"])['time'].agg([np.max, np.min]).rename(columns={\"max\":'last_appearance_date', \"min\": \"first_appearance_date\"})\n",
    "rev_metrics_grouped = trial_data.groupby(['user_id'])['target'].agg(['count', lambda x: (x>0).sum()]).rename(columns)"
   ]
  },
  {
   "cell_type": "code",
   "execution_count": 135,
   "id": "3fc9496c",
   "metadata": {},
   "outputs": [],
   "source": [
    "user_metrics_grouped = data.groupby([\"user_id\"]).agg(\n",
    "        last_appearance_date = (\"datetime\", \"max\")\n",
    "        , first_appearance_date = (\"datetime\", \"min\")\n",
    "        #, num_banner_shows = (\"title\", lambda x: (x == \"banner_show\").sum())\n",
    "        #, num_banner_clicks = (\"title\", lambda x: (x == \"banner_click\").sum())\n",
    "        , num_visits = (\"target\", \"count\")\n",
    "        , num_orders = (\"target\", lambda x: (x>0).sum())\n",
    "        #, days_since_first_appearance = (\"datetime\", lambda x: (x.max() - x.min()).days)\n",
    "        #, click_thru_rate = (\"title\", lambda x: (x == \"banner_click\").sum() / (x == \"banner_show\").sum())\n",
    ")"
   ]
  },
  {
   "cell_type": "raw",
   "id": "6830f681",
   "metadata": {},
   "source": [
    "user_metrics_grouped"
   ]
  },
  {
   "cell_type": "code",
   "execution_count": 136,
   "id": "8aabf926",
   "metadata": {},
   "outputs": [
    {
     "data": {
      "text/html": [
       "<div>\n",
       "<style scoped>\n",
       "    .dataframe tbody tr th:only-of-type {\n",
       "        vertical-align: middle;\n",
       "    }\n",
       "\n",
       "    .dataframe tbody tr th {\n",
       "        vertical-align: top;\n",
       "    }\n",
       "\n",
       "    .dataframe thead th {\n",
       "        text-align: right;\n",
       "    }\n",
       "</style>\n",
       "<table border=\"1\" class=\"dataframe\">\n",
       "  <thead>\n",
       "    <tr style=\"text-align: right;\">\n",
       "      <th></th>\n",
       "      <th>last_appearance_date</th>\n",
       "      <th>first_appearance_date</th>\n",
       "      <th>num_visits</th>\n",
       "      <th>num_orders</th>\n",
       "    </tr>\n",
       "    <tr>\n",
       "      <th>user_id</th>\n",
       "      <th></th>\n",
       "      <th></th>\n",
       "      <th></th>\n",
       "      <th></th>\n",
       "    </tr>\n",
       "  </thead>\n",
       "  <tbody>\n",
       "    <tr>\n",
       "      <th>0000023f507999464aa2b78875b7e5d6</th>\n",
       "      <td>2019-05-14 18:00:05</td>\n",
       "      <td>2019-05-14 18:00:05</td>\n",
       "      <td>1</td>\n",
       "      <td>0</td>\n",
       "    </tr>\n",
       "    <tr>\n",
       "      <th>000009891526c0ade7180f8423792063</th>\n",
       "      <td>2019-05-26 06:40:32</td>\n",
       "      <td>2019-05-26 06:40:32</td>\n",
       "      <td>1</td>\n",
       "      <td>0</td>\n",
       "    </tr>\n",
       "    <tr>\n",
       "      <th>00000ce845c00cbf0686c992fc369df4</th>\n",
       "      <td>2019-04-27 14:02:23</td>\n",
       "      <td>2019-04-27 14:02:23</td>\n",
       "      <td>1</td>\n",
       "      <td>0</td>\n",
       "    </tr>\n",
       "    <tr>\n",
       "      <th>00000f7264c27ba6fea0c837ed6aa0aa</th>\n",
       "      <td>2019-05-19 16:38:05</td>\n",
       "      <td>2019-05-19 16:38:05</td>\n",
       "      <td>1</td>\n",
       "      <td>0</td>\n",
       "    </tr>\n",
       "    <tr>\n",
       "      <th>0000104cd168386a335ba6bf6e32219d</th>\n",
       "      <td>2019-04-12 23:15:50</td>\n",
       "      <td>2019-01-22 12:41:53</td>\n",
       "      <td>4</td>\n",
       "      <td>1</td>\n",
       "    </tr>\n",
       "    <tr>\n",
       "      <th>...</th>\n",
       "      <td>...</td>\n",
       "      <td>...</td>\n",
       "      <td>...</td>\n",
       "      <td>...</td>\n",
       "    </tr>\n",
       "    <tr>\n",
       "      <th>ffffe3323c6b5c056c19b2722c9aacbc</th>\n",
       "      <td>2019-04-09 09:26:16</td>\n",
       "      <td>2019-04-09 09:26:08</td>\n",
       "      <td>2</td>\n",
       "      <td>0</td>\n",
       "    </tr>\n",
       "    <tr>\n",
       "      <th>fffff8d603b897bb8655858430adfe40</th>\n",
       "      <td>2019-05-15 16:35:18</td>\n",
       "      <td>2019-04-22 13:24:03</td>\n",
       "      <td>8</td>\n",
       "      <td>0</td>\n",
       "    </tr>\n",
       "    <tr>\n",
       "      <th>fffff9055756ed29a5aa13ee8e222ac8</th>\n",
       "      <td>2019-03-31 10:22:45</td>\n",
       "      <td>2019-03-31 10:22:39</td>\n",
       "      <td>2</td>\n",
       "      <td>0</td>\n",
       "    </tr>\n",
       "    <tr>\n",
       "      <th>fffffa6bed6b7780465149fab05cf406</th>\n",
       "      <td>2019-01-28 22:24:55</td>\n",
       "      <td>2019-01-15 11:58:53</td>\n",
       "      <td>3</td>\n",
       "      <td>0</td>\n",
       "    </tr>\n",
       "    <tr>\n",
       "      <th>fffffe98d0963d27015c198262d97221</th>\n",
       "      <td>2019-01-27 07:49:56</td>\n",
       "      <td>2019-01-27 07:49:56</td>\n",
       "      <td>1</td>\n",
       "      <td>0</td>\n",
       "    </tr>\n",
       "  </tbody>\n",
       "</table>\n",
       "<p>4254619 rows × 4 columns</p>\n",
       "</div>"
      ],
      "text/plain": [
       "                                 last_appearance_date first_appearance_date  \\\n",
       "user_id                                                                       \n",
       "0000023f507999464aa2b78875b7e5d6  2019-05-14 18:00:05   2019-05-14 18:00:05   \n",
       "000009891526c0ade7180f8423792063  2019-05-26 06:40:32   2019-05-26 06:40:32   \n",
       "00000ce845c00cbf0686c992fc369df4  2019-04-27 14:02:23   2019-04-27 14:02:23   \n",
       "00000f7264c27ba6fea0c837ed6aa0aa  2019-05-19 16:38:05   2019-05-19 16:38:05   \n",
       "0000104cd168386a335ba6bf6e32219d  2019-04-12 23:15:50   2019-01-22 12:41:53   \n",
       "...                                               ...                   ...   \n",
       "ffffe3323c6b5c056c19b2722c9aacbc  2019-04-09 09:26:16   2019-04-09 09:26:08   \n",
       "fffff8d603b897bb8655858430adfe40  2019-05-15 16:35:18   2019-04-22 13:24:03   \n",
       "fffff9055756ed29a5aa13ee8e222ac8  2019-03-31 10:22:45   2019-03-31 10:22:39   \n",
       "fffffa6bed6b7780465149fab05cf406  2019-01-28 22:24:55   2019-01-15 11:58:53   \n",
       "fffffe98d0963d27015c198262d97221  2019-01-27 07:49:56   2019-01-27 07:49:56   \n",
       "\n",
       "                                  num_visits  num_orders  \n",
       "user_id                                                   \n",
       "0000023f507999464aa2b78875b7e5d6           1           0  \n",
       "000009891526c0ade7180f8423792063           1           0  \n",
       "00000ce845c00cbf0686c992fc369df4           1           0  \n",
       "00000f7264c27ba6fea0c837ed6aa0aa           1           0  \n",
       "0000104cd168386a335ba6bf6e32219d           4           1  \n",
       "...                                      ...         ...  \n",
       "ffffe3323c6b5c056c19b2722c9aacbc           2           0  \n",
       "fffff8d603b897bb8655858430adfe40           8           0  \n",
       "fffff9055756ed29a5aa13ee8e222ac8           2           0  \n",
       "fffffa6bed6b7780465149fab05cf406           3           0  \n",
       "fffffe98d0963d27015c198262d97221           1           0  \n",
       "\n",
       "[4254619 rows x 4 columns]"
      ]
     },
     "execution_count": 136,
     "metadata": {},
     "output_type": "execute_result"
    }
   ],
   "source": [
    "user_metrics_grouped"
   ]
  },
  {
   "cell_type": "markdown",
   "id": "6d5e8f21",
   "metadata": {},
   "source": [
    "### Visualization -> Univariate"
   ]
  },
  {
   "cell_type": "code",
   "execution_count": 159,
   "id": "c1e6a226",
   "metadata": {},
   "outputs": [],
   "source": [
    "dvs = data_visualization_service(data)\n",
    "dvs.set_visualization_exclusion_columns(['order_id', 'user_id', 'datetime', 'time', 'page_id'])"
   ]
  },
  {
   "cell_type": "code",
   "execution_count": 160,
   "id": "ceaa4bef",
   "metadata": {},
   "outputs": [
    {
     "data": {
      "image/png": "[encoded data removed]",
      "text/plain": [
       "<Figure size 1080x720 with 8 Axes>"
      ]
     },
     "metadata": {},
     "output_type": "display_data"
    }
   ],
   "source": [
    "dvs.plot_distributions()"
   ]
  },
  {
   "cell_type": "markdown",
   "id": "8bbd88e7",
   "metadata": {},
   "source": [
    "### Quick Findings:\n",
    "Products are viewed relatively equally. \\\n",
    "Mobile visits are nearly 3x desktop visits. \\\n",
    "There seems to be equal number of visits across all the days. \\\n",
    "Banners are shown many more times than they are clicked, and of that, a smaller percentage resulted in an order. \\\n",
    "Most of the visits happen during 8 am to around 4-5 pm. \\"
   ]
  },
  {
   "cell_type": "markdown",
   "id": "7819fce9",
   "metadata": {},
   "source": [
    "### Joint Distribution Visualization"
   ]
  },
  {
   "cell_type": "code",
   "execution_count": 164,
   "id": "80357bc8",
   "metadata": {},
   "outputs": [
    {
     "data": {
      "text/plain": [
       "<seaborn.axisgrid.FacetGrid at 0x7fd51dba9340>"
      ]
     },
     "execution_count": 164,
     "metadata": {},
     "output_type": "execute_result"
    },
    {
     "data": {
      "image/png": "[encoded data removed]",
      "text/plain": [
       "<Figure size 720x360 with 2 Axes>"
      ]
     },
     "metadata": {},
     "output_type": "display_data"
    }
   ],
   "source": [
    "sns.displot(data=data, x='product', col='site_version')"
   ]
  },
  {
   "cell_type": "code",
   "execution_count": 165,
   "id": "d653e9f2",
   "metadata": {},
   "outputs": [
    {
     "data": {
      "text/plain": [
       "<seaborn.axisgrid.FacetGrid at 0x7fd544b4c040>"
      ]
     },
     "execution_count": 165,
     "metadata": {},
     "output_type": "execute_result"
    },
    {
     "data": {
      "image/png": "[encoded data removed]",
      "text/plain": [
       "<Figure size 1080x360 with 3 Axes>"
      ]
     },
     "metadata": {},
     "output_type": "display_data"
    }
   ],
   "source": [
    "sns.displot(data=data, x='product', col='title')"
   ]
  },
  {
   "cell_type": "code",
   "execution_count": 167,
   "id": "643ea43b",
   "metadata": {},
   "outputs": [
    {
     "data": {
      "text/plain": [
       "<seaborn.axisgrid.FacetGrid at 0x7fda798d1970>"
      ]
     },
     "execution_count": 167,
     "metadata": {},
     "output_type": "execute_result"
    },
    {
     "data": {
      "image/png": "[encoded data removed]",
      "text/plain": [
       "<Figure size 1080x360 with 3 Axes>"
      ]
     },
     "metadata": {},
     "output_type": "display_data"
    }
   ],
   "source": [
    "sns.displot(data=data, x='site_version', col='title')"
   ]
  },
  {
   "cell_type": "code",
   "execution_count": 166,
   "id": "10c706d7",
   "metadata": {},
   "outputs": [
    {
     "data": {
      "text/plain": [
       "<seaborn.axisgrid.FacetGrid at 0x7fd51dbe8a60>"
      ]
     },
     "execution_count": 166,
     "metadata": {},
     "output_type": "execute_result"
    },
    {
     "data": {
      "image/png": "[encoded data removed]",
      "text/plain": [
       "<Figure size 1896.38x360 with 5 Axes>"
      ]
     },
     "metadata": {},
     "output_type": "display_data"
    }
   ],
   "source": [
    "sns.displot(data=data, x='site_version', col='product', hue='title')"
   ]
  },
  {
   "cell_type": "markdown",
   "id": "987c062f",
   "metadata": {},
   "source": [
    "### Quick Findings:\n",
    "Purchase popularity range from clothes -> sneakers -> accessories -> sport_nutrition -> company_product. \\\n",
    "It looks like nobody bought company product even though we showed the most banners for it."
   ]
  },
  {
   "cell_type": "markdown",
   "id": "b4399f64",
   "metadata": {},
   "source": [
    "### Retention Analysis \n",
    "There seems to be an equal number of orders for desktop and mobile. However, we have significantly more mobile users than site users. \\\n",
    "\n",
    "Here, the question is: which version is better at retaining visitors?\n",
    "\n",
    "Our metric will be time_in_product, which will be defined as days_passed_since_last_visit. Our observed event will be whether someone is still a customer (ie- have they ever bought a product) "
   ]
  },
  {
   "cell_type": "code",
   "execution_count": 169,
   "id": "3f86ae7e",
   "metadata": {},
   "outputs": [],
   "source": [
    "mobile_data = data[data['site_version'] == 'mobile']\n",
    "website_data = data[data['site_version'] == 'desktop']"
   ]
  },
  {
   "cell_type": "code",
   "execution_count": 174,
   "id": "fcdc1cde",
   "metadata": {},
   "outputs": [],
   "source": [
    "mobile_retention_metrics = mobile_data.groupby([\"user_id\"]).agg(\n",
    "         num_visits = (\"target\", \"count\")\n",
    "        , num_purchases = (\"target\", lambda x: (x>0).sum())\n",
    "        , days_since_first_appearance = (\"datetime\", lambda x: (x.max() - x.min()).days)\n",
    ")\n",
    "website_retention_metrics = website_data.groupby([\"user_id\"]).agg(\n",
    "         num_visits = (\"target\", \"count\")\n",
    "        , num_purchases = (\"target\", lambda x: (x>0).sum())\n",
    "        , days_since_first_appearance = (\"datetime\", lambda x: (x.max() - x.min()).days)\n",
    ")"
   ]
  },
  {
   "cell_type": "code",
   "execution_count": 181,
   "id": "af6600ec",
   "metadata": {},
   "outputs": [],
   "source": [
    "def did_user_purchase(num_purchases):\n",
    "    if num_purchases > 0:\n",
    "        return 1 \n",
    "    else:\n",
    "        return 0\n",
    "website_retention_metrics['customer'] = website_retention_metrics['num_purchases'].apply(did_user_purchase)\n",
    "mobile_retention_metrics['customer'] = mobile_retention_metrics['num_purchases'].apply(did_user_purchase)"
   ]
  },
  {
   "cell_type": "code",
   "execution_count": 190,
   "id": "21a00b9a",
   "metadata": {},
   "outputs": [
    {
     "data": {
      "text/html": [
       "<div>\n",
       "<style scoped>\n",
       "    .dataframe tbody tr th:only-of-type {\n",
       "        vertical-align: middle;\n",
       "    }\n",
       "\n",
       "    .dataframe tbody tr th {\n",
       "        vertical-align: top;\n",
       "    }\n",
       "\n",
       "    .dataframe thead th {\n",
       "        text-align: right;\n",
       "    }\n",
       "</style>\n",
       "<table border=\"1\" class=\"dataframe\">\n",
       "  <thead>\n",
       "    <tr style=\"text-align: right;\">\n",
       "      <th></th>\n",
       "      <th>num_visits</th>\n",
       "      <th>num_purchases</th>\n",
       "      <th>days_since_first_appearance</th>\n",
       "      <th>customer</th>\n",
       "    </tr>\n",
       "    <tr>\n",
       "      <th>user_id</th>\n",
       "      <th></th>\n",
       "      <th></th>\n",
       "      <th></th>\n",
       "      <th></th>\n",
       "    </tr>\n",
       "  </thead>\n",
       "  <tbody>\n",
       "    <tr>\n",
       "      <th>0000023f507999464aa2b78875b7e5d6</th>\n",
       "      <td>1</td>\n",
       "      <td>0</td>\n",
       "      <td>0</td>\n",
       "      <td>0</td>\n",
       "    </tr>\n",
       "    <tr>\n",
       "      <th>00000ce845c00cbf0686c992fc369df4</th>\n",
       "      <td>1</td>\n",
       "      <td>0</td>\n",
       "      <td>0</td>\n",
       "      <td>0</td>\n",
       "    </tr>\n",
       "    <tr>\n",
       "      <th>00000f7264c27ba6fea0c837ed6aa0aa</th>\n",
       "      <td>1</td>\n",
       "      <td>0</td>\n",
       "      <td>0</td>\n",
       "      <td>0</td>\n",
       "    </tr>\n",
       "    <tr>\n",
       "      <th>0000104cd168386a335ba6bf6e32219d</th>\n",
       "      <td>4</td>\n",
       "      <td>1</td>\n",
       "      <td>80</td>\n",
       "      <td>1</td>\n",
       "    </tr>\n",
       "    <tr>\n",
       "      <th>0000180e94707c0d90547614c17076bf</th>\n",
       "      <td>2</td>\n",
       "      <td>0</td>\n",
       "      <td>0</td>\n",
       "      <td>0</td>\n",
       "    </tr>\n",
       "    <tr>\n",
       "      <th>...</th>\n",
       "      <td>...</td>\n",
       "      <td>...</td>\n",
       "      <td>...</td>\n",
       "      <td>...</td>\n",
       "    </tr>\n",
       "    <tr>\n",
       "      <th>ffffa1dec2b5597706e69c9154d0da49</th>\n",
       "      <td>1</td>\n",
       "      <td>0</td>\n",
       "      <td>0</td>\n",
       "      <td>0</td>\n",
       "    </tr>\n",
       "    <tr>\n",
       "      <th>ffffad3f78f2b13ce571c709dd049cd3</th>\n",
       "      <td>1</td>\n",
       "      <td>0</td>\n",
       "      <td>0</td>\n",
       "      <td>0</td>\n",
       "    </tr>\n",
       "    <tr>\n",
       "      <th>ffffb8de2d77567f452ad766471a9e5e</th>\n",
       "      <td>1</td>\n",
       "      <td>0</td>\n",
       "      <td>0</td>\n",
       "      <td>0</td>\n",
       "    </tr>\n",
       "    <tr>\n",
       "      <th>ffffbd0f062adb4c4a307c5a05f7b0ad</th>\n",
       "      <td>1</td>\n",
       "      <td>0</td>\n",
       "      <td>0</td>\n",
       "      <td>0</td>\n",
       "    </tr>\n",
       "    <tr>\n",
       "      <th>fffffe98d0963d27015c198262d97221</th>\n",
       "      <td>1</td>\n",
       "      <td>0</td>\n",
       "      <td>0</td>\n",
       "      <td>0</td>\n",
       "    </tr>\n",
       "  </tbody>\n",
       "</table>\n",
       "<p>1424772 rows × 4 columns</p>\n",
       "</div>"
      ],
      "text/plain": [
       "                                  num_visits  num_purchases  \\\n",
       "user_id                                                       \n",
       "0000023f507999464aa2b78875b7e5d6           1              0   \n",
       "00000ce845c00cbf0686c992fc369df4           1              0   \n",
       "00000f7264c27ba6fea0c837ed6aa0aa           1              0   \n",
       "0000104cd168386a335ba6bf6e32219d           4              1   \n",
       "0000180e94707c0d90547614c17076bf           2              0   \n",
       "...                                      ...            ...   \n",
       "ffffa1dec2b5597706e69c9154d0da49           1              0   \n",
       "ffffad3f78f2b13ce571c709dd049cd3           1              0   \n",
       "ffffb8de2d77567f452ad766471a9e5e           1              0   \n",
       "ffffbd0f062adb4c4a307c5a05f7b0ad           1              0   \n",
       "fffffe98d0963d27015c198262d97221           1              0   \n",
       "\n",
       "                                  days_since_first_appearance  customer  \n",
       "user_id                                                                  \n",
       "0000023f507999464aa2b78875b7e5d6                            0         0  \n",
       "00000ce845c00cbf0686c992fc369df4                            0         0  \n",
       "00000f7264c27ba6fea0c837ed6aa0aa                            0         0  \n",
       "0000104cd168386a335ba6bf6e32219d                           80         1  \n",
       "0000180e94707c0d90547614c17076bf                            0         0  \n",
       "...                                                       ...       ...  \n",
       "ffffa1dec2b5597706e69c9154d0da49                            0         0  \n",
       "ffffad3f78f2b13ce571c709dd049cd3                            0         0  \n",
       "ffffb8de2d77567f452ad766471a9e5e                            0         0  \n",
       "ffffbd0f062adb4c4a307c5a05f7b0ad                            0         0  \n",
       "fffffe98d0963d27015c198262d97221                            0         0  \n",
       "\n",
       "[1424772 rows x 4 columns]"
      ]
     },
     "execution_count": 190,
     "metadata": {},
     "output_type": "execute_result"
    }
   ],
   "source": [
    "website_retention_metrics"
   ]
  },
  {
   "cell_type": "code",
   "execution_count": 185,
   "id": "4e766949",
   "metadata": {},
   "outputs": [
    {
     "data": {
      "image/png": "[encoded data removed]",
      "text/plain": [
       "<Figure size 432x288 with 1 Axes>"
      ]
     },
     "metadata": {},
     "output_type": "display_data"
    }
   ],
   "source": [
    "from lifelines import KaplanMeierFitter\n",
    "from matplotlib import pyplot as plt\n",
    "\n",
    "ax = plt.subplot(111)\n",
    "kmf = KaplanMeierFitter()\n",
    "kmf.fit(mobile_retention_metrics['days_since_first_appearance'], event_observed=mobile_retention_metrics['customer'], label=\"mobile_site\")\n",
    "kmf.plot_survival_function(ax=ax)\n",
    "\n",
    "kmf.fit(website_retention_metrics['days_since_first_appearance'], event_observed=website_retention_metrics['customer'], label=\"web_site\")\n",
    "kmf.plot_survival_function(ax=ax)\n",
    "\n",
    "plt.title(\"days since first visit\");"
   ]
  },
  {
   "cell_type": "code",
   "execution_count": 188,
   "id": "24ee974b",
   "metadata": {},
   "outputs": [
    {
     "data": {
      "text/plain": [
       "0.0"
      ]
     },
     "execution_count": 188,
     "metadata": {},
     "output_type": "execute_result"
    }
   ],
   "source": [
    "from lifelines.statistics import logrank_test\n",
    "\n",
    "results = logrank_test(mobile_retention_metrics['days_since_first_appearance'], website_retention_metrics['days_since_first_appearance']\n",
    "                       , mobile_retention_metrics['customer'], website_retention_metrics['customer'], alpha=.99)\n",
    "results.p_value"
   ]
  },
  {
   "cell_type": "markdown",
   "id": "2d9b89c3",
   "metadata": {},
   "source": [
    "The mobile site is much better at retaining and converting people."
   ]
  },
  {
   "cell_type": "code",
   "execution_count": 197,
   "id": "31f20291",
   "metadata": {},
   "outputs": [
    {
     "name": "stdout",
     "output_type": "stream",
     "text": [
      "website :  0.08801688971989904\n",
      "mobile :  0.039400291265499945\n"
     ]
    }
   ],
   "source": [
    "print('website : ', website_retention_metrics[website_retention_metrics['customer'] == 1].shape[0]\n",
    "      / website_retention_metrics['customer'].count())\n",
    "print('mobile : ', mobile_retention_metrics[mobile_retention_metrics['customer'] == 1].shape[0]\n",
    "      / mobile_retention_metrics['customer'].count())"
   ]
  },
  {
   "cell_type": "markdown",
   "id": "04c887b9",
   "metadata": {},
   "source": [
    "### Engagement Analysis\n",
    "We need to assess banner performance. \n",
    "\n",
    "Our metric is click_through_rate := number_of_clicks/number_of_impressions. \\\\\n",
    "\n",
    "Q1: is our click_through_rate different across mobile and site experience?"
   ]
  },
  {
   "cell_type": "code",
   "execution_count": 198,
   "id": "df36514b",
   "metadata": {},
   "outputs": [
    {
     "data": {
      "text/html": [
       "<div>\n",
       "<style scoped>\n",
       "    .dataframe tbody tr th:only-of-type {\n",
       "        vertical-align: middle;\n",
       "    }\n",
       "\n",
       "    .dataframe tbody tr th {\n",
       "        vertical-align: top;\n",
       "    }\n",
       "\n",
       "    .dataframe thead th {\n",
       "        text-align: right;\n",
       "    }\n",
       "</style>\n",
       "<table border=\"1\" class=\"dataframe\">\n",
       "  <thead>\n",
       "    <tr style=\"text-align: right;\">\n",
       "      <th>title</th>\n",
       "      <th>banner_click</th>\n",
       "      <th>banner_show</th>\n",
       "      <th>order</th>\n",
       "    </tr>\n",
       "    <tr>\n",
       "      <th>site_version</th>\n",
       "      <th></th>\n",
       "      <th></th>\n",
       "      <th></th>\n",
       "    </tr>\n",
       "  </thead>\n",
       "  <tbody>\n",
       "    <tr>\n",
       "      <th>desktop</th>\n",
       "      <td>115065</td>\n",
       "      <td>2134639</td>\n",
       "      <td>133181</td>\n",
       "    </tr>\n",
       "    <tr>\n",
       "      <th>mobile</th>\n",
       "      <td>714119</td>\n",
       "      <td>5258675</td>\n",
       "      <td>115541</td>\n",
       "    </tr>\n",
       "  </tbody>\n",
       "</table>\n",
       "</div>"
      ],
      "text/plain": [
       "title         banner_click  banner_show   order\n",
       "site_version                                   \n",
       "desktop             115065      2134639  133181\n",
       "mobile              714119      5258675  115541"
      ]
     },
     "execution_count": 198,
     "metadata": {},
     "output_type": "execute_result"
    }
   ],
   "source": [
    "click_through_contingency_table = pd.crosstab(data['site_version'], data['title'])\n",
    "click_through_contingency_table"
   ]
  },
  {
   "cell_type": "code",
   "execution_count": 199,
   "id": "9fd79dc5",
   "metadata": {},
   "outputs": [
    {
     "data": {
      "text/plain": [
       "(102262.95201384179,\n",
       " 0.0,\n",
       " 1,\n",
       " array([[ 239406.64559574, 1895232.35440426],\n",
       "        [ 589777.35440426, 4668897.64559574]]))"
      ]
     },
     "execution_count": 199,
     "metadata": {},
     "output_type": "execute_result"
    }
   ],
   "source": [
    "# apply chi_squared_test to check whether there is independence between desktop/site experience and banner clicks\n",
    "# since a banner can only be clicked if it was shown, we need to correct for this in our table\n",
    "import scipy.stats as stats\n",
    "\n",
    "stats.chi2_contingency(np.array([[115065,2134639-115065], [714119,5258675-714119]]))"
   ]
  },
  {
   "cell_type": "code",
   "execution_count": 200,
   "id": "33601251",
   "metadata": {},
   "outputs": [
    {
     "name": "stdout",
     "output_type": "stream",
     "text": [
      "desktop ctr:  0.05697488678305425\n",
      "mobile ctr:  0.15713724289017453\n"
     ]
    }
   ],
   "source": [
    "print('desktop ctr: ', 115065 / (2134639 - 115065))\n",
    "print('mobile ctr: ', 714119 / (5258675 - 714119))"
   ]
  },
  {
   "cell_type": "markdown",
   "id": "c5d2fac2",
   "metadata": {},
   "source": [
    "it looks like our mobile ctr is significantly better than website ctr"
   ]
  },
  {
   "cell_type": "markdown",
   "id": "5bb1bddc",
   "metadata": {},
   "source": [
    "Q2: is ctr different across our products?"
   ]
  },
  {
   "cell_type": "code",
   "execution_count": 202,
   "id": "242c0327",
   "metadata": {},
   "outputs": [
    {
     "data": {
      "text/html": [
       "<div>\n",
       "<style scoped>\n",
       "    .dataframe tbody tr th:only-of-type {\n",
       "        vertical-align: middle;\n",
       "    }\n",
       "\n",
       "    .dataframe tbody tr th {\n",
       "        vertical-align: top;\n",
       "    }\n",
       "\n",
       "    .dataframe thead th {\n",
       "        text-align: right;\n",
       "    }\n",
       "</style>\n",
       "<table border=\"1\" class=\"dataframe\">\n",
       "  <thead>\n",
       "    <tr style=\"text-align: right;\">\n",
       "      <th>title</th>\n",
       "      <th>banner_click</th>\n",
       "      <th>banner_show</th>\n",
       "      <th>order</th>\n",
       "    </tr>\n",
       "    <tr>\n",
       "      <th>product</th>\n",
       "      <th></th>\n",
       "      <th></th>\n",
       "      <th></th>\n",
       "    </tr>\n",
       "  </thead>\n",
       "  <tbody>\n",
       "    <tr>\n",
       "      <th>accessories</th>\n",
       "      <td>136254</td>\n",
       "      <td>1440954</td>\n",
       "      <td>44551</td>\n",
       "    </tr>\n",
       "    <tr>\n",
       "      <th>clothes</th>\n",
       "      <td>220595</td>\n",
       "      <td>1453128</td>\n",
       "      <td>112715</td>\n",
       "    </tr>\n",
       "    <tr>\n",
       "      <th>company</th>\n",
       "      <td>144821</td>\n",
       "      <td>1580235</td>\n",
       "      <td>0</td>\n",
       "    </tr>\n",
       "    <tr>\n",
       "      <th>sneakers</th>\n",
       "      <td>182596</td>\n",
       "      <td>1453027</td>\n",
       "      <td>67719</td>\n",
       "    </tr>\n",
       "    <tr>\n",
       "      <th>sports_nutrition</th>\n",
       "      <td>144918</td>\n",
       "      <td>1465970</td>\n",
       "      <td>23737</td>\n",
       "    </tr>\n",
       "  </tbody>\n",
       "</table>\n",
       "</div>"
      ],
      "text/plain": [
       "title             banner_click  banner_show   order\n",
       "product                                            \n",
       "accessories             136254      1440954   44551\n",
       "clothes                 220595      1453128  112715\n",
       "company                 144821      1580235       0\n",
       "sneakers                182596      1453027   67719\n",
       "sports_nutrition        144918      1465970   23737"
      ]
     },
     "execution_count": 202,
     "metadata": {},
     "output_type": "execute_result"
    }
   ],
   "source": [
    "product_click_table = pd.crosstab(data['product'], data['title'])\n",
    "product_click_table"
   ]
  },
  {
   "cell_type": "code",
   "execution_count": 205,
   "id": "3eecfc9c",
   "metadata": {},
   "outputs": [
    {
     "data": {
      "text/plain": [
       "(39369.48642564484,\n",
       " 0.0,\n",
       " 4,\n",
       " array([[ 161607.63651267, 1279346.36348733],\n",
       "        [ 162972.98985976, 1290155.01014024],\n",
       "        [ 177228.44968305, 1403006.55031695],\n",
       "        [ 162961.66238415, 1290065.33761585],\n",
       "        [ 164413.26156038, 1301556.73843962]]))"
      ]
     },
     "execution_count": 205,
     "metadata": {},
     "output_type": "execute_result"
    }
   ],
   "source": [
    "stats.chi2_contingency(np.array([[136254,1440954-136254]\n",
    "                                , [220595,1453128-220595]\n",
    "                                , [144821,1580235-144821]\n",
    "                                , [182596,1453027-182596]\n",
    "                                , [144918, 1465970-144918]]))"
   ]
  },
  {
   "cell_type": "code",
   "execution_count": 206,
   "id": "7e35d2b3",
   "metadata": {},
   "outputs": [
    {
     "name": "stdout",
     "output_type": "stream",
     "text": [
      "accessories :  0.1044332030351805\n",
      "clothes :  0.17897695234123548\n",
      "company :  0.100891450132157\n",
      "sneakers :  0.1437276011054516\n",
      "sports_nutrition :  0.10969893690785829\n"
     ]
    }
   ],
   "source": [
    "print(\"accessories : \", 136254 / (1440954-136254))\n",
    "print(\"clothes : \", 220595 / (1453128-220595))\n",
    "print(\"company : \", 144821 / (1580235-144821))\n",
    "print(\"sneakers : \", 182596 / (1453027-182596))\n",
    "print(\"sports_nutrition : \", 144918 / (1465970-144918))"
   ]
  },
  {
   "cell_type": "markdown",
   "id": "a961f00d",
   "metadata": {},
   "source": [
    "Our clothes and sneakers have higher ctr"
   ]
  },
  {
   "cell_type": "markdown",
   "id": "d722e1d1",
   "metadata": {},
   "source": [
    "### Revenue Analysis"
   ]
  },
  {
   "cell_type": "code",
   "execution_count": 209,
   "id": "fda6cbbe",
   "metadata": {},
   "outputs": [
    {
     "data": {
      "text/plain": [
       "KstestResult(statistic=0.04861659845439914, pvalue=0.0)"
      ]
     },
     "execution_count": 209,
     "metadata": {},
     "output_type": "execute_result"
    }
   ],
   "source": [
    "# we want to determine whether our number of purchases between website and mobile is same\n",
    "stats.kstest(mobile_retention_metrics['num_purchases'], website_retention_metrics['num_purchases'])"
   ]
  },
  {
   "cell_type": "markdown",
   "id": "72f47bd4",
   "metadata": {},
   "source": [
    "our number of purchases between the mobile site and website is not drawn from the same distribution, as shown by the ks test"
   ]
  },
  {
   "cell_type": "markdown",
   "id": "43ee8000",
   "metadata": {},
   "source": [
    "### Findings\n",
    "We are shown banners equally across our product types, but the click-through-rate and purchases suggest popularity is as follows: clothes -> sneakers -> sports_nutrition ->  accessories -> company. \\\n",
    "Our company product has similiar ctr, but it is not converting to orders at all. It is gathering interest, but nobody is buying. There needs to be more data on what the company product is, since nothing is converting \\\n",
    "Website is performing poorly for both click-through-rate and conversions. The website needs to be re-examined in detail."
   ]
  },
  {
   "cell_type": "code",
   "execution_count": null,
   "id": "2af843cc",
   "metadata": {},
   "outputs": [],
   "source": []
  }
 ],
 "metadata": {
  "kernelspec": {
   "display_name": "Python 3",
   "language": "python",
   "name": "python3"
  },
  "language_info": {
   "codemirror_mode": {
    "name": "ipython",
    "version": 3
   },
   "file_extension": ".py",
   "mimetype": "text/x-python",
   "name": "python",
   "nbconvert_exporter": "python",
   "pygments_lexer": "ipython3",
   "version": "3.8.8"
  }
 },
 "nbformat": 4,
 "nbformat_minor": 5
}
